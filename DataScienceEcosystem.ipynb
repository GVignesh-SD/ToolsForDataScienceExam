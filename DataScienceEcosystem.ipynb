{
 "cells": [
  {
   "cell_type": "markdown",
   "id": "b3203934-3ab5-4ef9-9acd-0fc0cc333e3b",
   "metadata": {},
   "source": [
    "# Data Science Tools and Ecosystem\n"
   ]
  },
  {
   "cell_type": "markdown",
   "id": "079c732a-ffab-4b16-b893-aed77b862341",
   "metadata": {},
   "source": [
    "In this notebook, Data Science Tools and Ecosystem are summarized."
   ]
  },
  {
   "cell_type": "markdown",
   "id": "0325a2f0-00e1-4c63-950d-13020939532a",
   "metadata": {},
   "source": [
    "**Objectives:**\n",
    "- List popular languages for Data Science.\n",
    "- Mention commonly used libraries.\n",
    "- Introduce Data Science tools.\n"
   ]
  },
  {
   "cell_type": "markdown",
   "id": "6cc0fc0c-4bd2-4485-9b22-39e5e1f4c7a5",
   "metadata": {},
   "source": [
    "Some of the popular languages that Data Scientists use are:\n",
    "1. Python\n",
    "2. R\n",
    "3. SQL\n"
   ]
  },
  {
   "cell_type": "markdown",
   "id": "454c89d9-888d-4be9-9d89-3d941189cd23",
   "metadata": {},
   "source": [
    "Some of the commonly used libraries used by Data Scientists include:\n",
    "1. NumPy\n",
    "2. Pandas\n",
    "3. Matplotlib\n"
   ]
  },
  {
   "cell_type": "markdown",
   "id": "78550310-dbb5-4639-a327-b9ce2f0868f8",
   "metadata": {},
   "source": [
    "| Data Science Tools |\n",
    "|--------------------|\n",
    "| Jupyter Notebook   |\n",
    "| VS Code            |\n",
    "| PyCharm            |\n"
   ]
  },
  {
   "cell_type": "markdown",
   "id": "57046c5b-1149-42c8-8841-9fec641ef62f",
   "metadata": {},
   "source": [
    "### Below are a few examples of evaluating arithmetic expressions in Python.\n"
   ]
  },
  {
   "cell_type": "code",
   "execution_count": 1,
   "id": "de0db6b5-4e21-4192-9f99-162392567958",
   "metadata": {
    "tags": []
   },
   "outputs": [
    {
     "data": {
      "text/plain": [
       "17"
      ]
     },
     "execution_count": 1,
     "metadata": {},
     "output_type": "execute_result"
    }
   ],
   "source": [
    "# This is a simple arithmetic expression to multiply then add integers\n",
    "result = (3 * 4) + 5\n",
    "result\n"
   ]
  },
  {
   "cell_type": "code",
   "execution_count": 2,
   "id": "712ce7d1-6bec-46c5-b12b-67081ca3b833",
   "metadata": {
    "tags": []
   },
   "outputs": [
    {
     "data": {
      "text/plain": [
       "3.3333333333333335"
      ]
     },
     "execution_count": 2,
     "metadata": {},
     "output_type": "execute_result"
    }
   ],
   "source": [
    "# This will convert 200 minutes to hours by dividing by 60\n",
    "minutes = 200\n",
    "hours = minutes / 60\n",
    "hours\n"
   ]
  },
  {
   "cell_type": "markdown",
   "id": "367065e3-f484-49e3-ab8f-ff8b658ac070",
   "metadata": {},
   "source": [
    "## Author\n",
    "VIGNESH G\n"
   ]
  },
  {
   "cell_type": "code",
   "execution_count": null,
   "id": "3535b9b9-a5a7-4bfa-9fa0-9bef255f2b4e",
   "metadata": {},
   "outputs": [],
   "source": []
  }
 ],
 "metadata": {
  "kernelspec": {
   "display_name": "Python",
   "language": "python",
   "name": "conda-env-python-py"
  },
  "language_info": {
   "codemirror_mode": {
    "name": "ipython",
    "version": 3
   },
   "file_extension": ".py",
   "mimetype": "text/x-python",
   "name": "python",
   "nbconvert_exporter": "python",
   "pygments_lexer": "ipython3",
   "version": "3.7.12"
  }
 },
 "nbformat": 4,
 "nbformat_minor": 5
}
